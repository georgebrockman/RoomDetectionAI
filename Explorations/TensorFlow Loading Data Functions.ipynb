{
 "cells": [
  {
   "cell_type": "markdown",
   "metadata": {},
   "source": [
    "# Loading data in TensorFlow functions"
   ]
  },
  {
   "cell_type": "code",
   "execution_count": 1,
   "metadata": {},
   "outputs": [],
   "source": [
    "import numpy as np\n",
    "import os\n",
    "import tensorflow as tf"
   ]
  },
  {
   "cell_type": "code",
   "execution_count": 18,
   "metadata": {},
   "outputs": [],
   "source": [
    "def dataset_classifcation(path, resize_h, resize_w, train=True, limit=None):\n",
    "    \n",
    "    # list all paths to data classes except DS_Store\n",
    "    class_folders = [f for f in sorted(os.listdir(path)) if not f.startswith('.')]\n",
    "    # load images\n",
    "    images = []\n",
    "    classes = []\n",
    "    for i, c in enumerate(class_folders):\n",
    "        #images_per_class = sorted(os.path.join(path, c))\n",
    "        images_per_class = [f for f in sorted(os.listdir(os.path.join(path, c))) if 'jpg' in f]\n",
    "        \n",
    "        for image_per_class in images_per_class:\n",
    "            images.append(os.path.join(path, c, image_per_class))\n",
    "            # the index will be the class label\n",
    "            classes.append(i)\n",
    "\n",
    "    images_tf = tf.data.Dataset.from_tensor_slices(images)\n",
    "    classes_tf = tf.data.Dataset.from_tensor_slices(classes)\n",
    "    # put two arrays together so that each image has its classifying label \n",
    "    dataset = tf.data.Dataset.zip((images_tf, classes_tf))\n",
    "    \n",
    "    @tf.function\n",
    "    def read_images(image_path, class_type, mirrored=False):\n",
    "        image = tf.io.read_file(image_path)\n",
    "        image = tf.image.decode_jpeg(image)\n",
    "        \n",
    "\n",
    "        h, w, c = image.shape\n",
    "        \n",
    "        if not (h == resize_h and w == resize_w):\n",
    "            image = tf.image.resize(\n",
    "            image, [resize_h, resize_w], method=tf.image.ResizeMethod.NEAREST_NEIGHBOR)\n",
    "            image.set_shape((224, 224, 3))\n",
    "        \n",
    "        # change DType of image to float32\n",
    "        image = tf.cast(image, tf.float32)\n",
    "        class_type = tf.cast(class_type, tf.float32)\n",
    "        \n",
    "        # normalise the image pixels\n",
    "        image = (image / 255.0)\n",
    "\n",
    "        return image, class_type\n",
    "\n",
    "    dataset = dataset.map(\n",
    "        read_images,\n",
    "        num_parallel_calls=tf.data.experimental.AUTOTUNE,\n",
    "        deterministic=False)\n",
    "\n",
    "    return dataset"
   ]
  },
  {
   "cell_type": "code",
   "execution_count": 19,
   "metadata": {},
   "outputs": [
    {
     "data": {
      "text/plain": [
       "<ParallelMapDataset shapes: ((224, 224, 3), ()), types: (tf.float32, tf.float32)>"
      ]
     },
     "execution_count": 19,
     "metadata": {},
     "output_type": "execute_result"
    }
   ],
   "source": [
    "path = '/Users/georgebrockman/code/georgebrockman/Autoenhance.ai/RoomDetection/images/training_data/'\n",
    "train_ds = dataset_classifcation(path, 224, 224)\n",
    "train_ds"
   ]
  },
  {
   "cell_type": "code",
   "execution_count": null,
   "metadata": {},
   "outputs": [],
   "source": []
  }
 ],
 "metadata": {
  "kernelspec": {
   "display_name": "Python 3",
   "language": "python",
   "name": "python3"
  },
  "language_info": {
   "codemirror_mode": {
    "name": "ipython",
    "version": 3
   },
   "file_extension": ".py",
   "mimetype": "text/x-python",
   "name": "python",
   "nbconvert_exporter": "python",
   "pygments_lexer": "ipython3",
   "version": "3.7.7"
  },
  "toc": {
   "base_numbering": 1,
   "nav_menu": {},
   "number_sections": true,
   "sideBar": true,
   "skip_h1_title": false,
   "title_cell": "Table of Contents",
   "title_sidebar": "Contents",
   "toc_cell": false,
   "toc_position": {},
   "toc_section_display": true,
   "toc_window_display": false
  }
 },
 "nbformat": 4,
 "nbformat_minor": 4
}
