{
 "cells": [
  {
   "cell_type": "markdown",
   "metadata": {},
   "source": [
    "# Room Detection AI"
   ]
  },
  {
   "cell_type": "markdown",
   "metadata": {},
   "source": [
    "Creating a room detection AI from scratch. \n",
    "\n",
    "Aim: to create a GANs that can identify which room in the house the photo is of, and whether or not the photo is external or internal. \n",
    "\n",
    "The classes to explore are:\n",
    "\n",
    "- Bathroom\n",
    "- Bedroom\n",
    "- Kitchen\n",
    "- Conservatory\n",
    "- Dinning Room\n",
    "- Entrance Hall\n",
    "- Living Room\n",
    "- Landing\n",
    "- Pool\n",
    "- Pool House\n",
    "- Study\n",
    "- Utility Room\n",
    "- Drawing Room\n",
    "- Library \n",
    "- Cinema\n",
    "- Basement\n",
    "- Attic\n",
    "- Courtyard \n",
    "- Pantry\n",
    "- Shed\n",
    "- Balcony \n",
    "- Loft Conversion\n",
    "- Barn Converstion\n",
    "- Garage\n",
    "- Games room \n",
    "- Wet room \n",
    "- Wine / Cellar\n",
    "- Staircase"
   ]
  },
  {
   "cell_type": "markdown",
   "metadata": {},
   "source": [
    "## Data Collection"
   ]
  },
  {
   "cell_type": "markdown",
   "metadata": {},
   "source": [
    "Potential sources for data scrapping:\n",
    "\n",
    "- airbnb\n",
    "- pinterest\n",
    "- interior design websites\n"
   ]
  },
  {
   "cell_type": "markdown",
   "metadata": {},
   "source": [
    "## Practice Scrape"
   ]
  },
  {
   "cell_type": "code",
   "execution_count": 1,
   "metadata": {},
   "outputs": [],
   "source": [
    "import pandas as pd\n",
    "import numpy as np\n",
    "import requests\n",
    "from bs4 import BeautifulSoup"
   ]
  },
  {
   "cell_type": "code",
   "execution_count": 2,
   "metadata": {},
   "outputs": [],
   "source": [
    "url = 'https://www.istockphoto.com/photos/interior-design?mediatype=photography&phrase=interior%20design&sort=best'"
   ]
  },
  {
   "cell_type": "code",
   "execution_count": 3,
   "metadata": {},
   "outputs": [],
   "source": [
    "# set response variable equal to the get function of the requests library\n",
    "response = requests.get(url, headers={\"Accept-Language\":\"en-US\"}) # make sure the language of the retrieved scraping is english\n",
    "# set soup variable\n",
    "soup = BeautifulSoup(response.content, \"html.parser\")"
   ]
  },
  {
   "cell_type": "code",
   "execution_count": 5,
   "metadata": {},
   "outputs": [
    {
     "data": {
      "text/plain": [
       "[<img class=\"gallery-asset__thumb gallery-mosaic-asset__thumb\" src=\"https://media.istockphoto.com/photos/modern-living-room-in-the-evening-picture-id1203029609?k=6&amp;m=1203029609&amp;s=612x612&amp;w=0&amp;h=XXA-Tcq55KyJqFKP5MWxvyojbwsHHSxihJpqNS23FAI=\"/>,\n",
       " <img class=\"gallery-asset__thumb gallery-mosaic-asset__thumb\" src=\"https://media.istockphoto.com/photos/stylish-composition-of-bedroom-interior-with-wooden-bed-design-shelf-picture-id1197277473?k=6&amp;m=1197277473&amp;s=612x612&amp;w=0&amp;h=1_SwRgI4RmYqB9zHFqdYKXdMBrjqQz6QqRqSgu5Z-5I=\"/>,\n",
       " <img class=\"gallery-asset__thumb gallery-mosaic-asset__thumb\" src=\"https://media.istockphoto.com/photos/full-furnished-living-room-picture-id1149521187?k=6&amp;m=1149521187&amp;s=612x612&amp;w=0&amp;h=kUNSsZ3z1c9Iflsw6YD8Pofrs0H2oR-uOe58BjSpJhY=\"/>,\n",
       " <img class=\"gallery-asset__thumb gallery-mosaic-asset__thumb\" src=\"https://media.istockphoto.com/photos/blue-prints-color-swatch-pencil-colors-sketches-plans-and-documents-picture-id1181691218?k=6&amp;m=1181691218&amp;s=612x612&amp;w=0&amp;h=hEyUin-loVRdVHbsw_yIojg-_nVm9V1JXb-3fd8uq-4=\"/>,\n",
       " <img class=\"gallery-asset__thumb gallery-mosaic-asset__thumb\" src=\"https://media.istockphoto.com/photos/interior-design-of-modern-scandinavian-apartment-living-room-3d-picture-id1185197503?k=6&amp;m=1185197503&amp;s=612x612&amp;w=0&amp;h=yaa5ENtsE6KfxmyhnK2HqvJpxB8lvxYXdOwaWXfA0EA=\"/>,\n",
       " <img class=\"gallery-asset__thumb gallery-mosaic-asset__thumb\" src=\"https://media.istockphoto.com/photos/luxury-living-room-with-modern-kitchen-picture-id1202578834?k=6&amp;m=1202578834&amp;s=612x612&amp;w=0&amp;h=rR88PA5VWeEAV8M-c9eAXITzb_NSsAA_iC49ppKTBz4=\"/>,\n",
       " <img class=\"gallery-asset__thumb gallery-mosaic-asset__thumb\" src=\"https://media.istockphoto.com/photos/luxury-white-kitchen-design-picture-id1193825948?k=6&amp;m=1193825948&amp;s=612x612&amp;w=0&amp;h=RXe7nNltJt0L3z5J5j69j49xKhy_KAsbkxDqiEVPd0I=\"/>,\n",
       " <img class=\"gallery-asset__thumb gallery-mosaic-asset__thumb\" src=\"https://media.istockphoto.com/photos/rendering-of-an-elegant-bedroom-picture-id1213695547?k=6&amp;m=1213695547&amp;s=612x612&amp;w=0&amp;h=6g9Av9QXdzKKYUR5qd7JTKXD7z2rMXMqmWgWz6Sk8CM=\"/>,\n",
       " <img class=\"gallery-asset__thumb gallery-mosaic-asset__thumb\" src=\"https://media.istockphoto.com/photos/half-drawing-sketch-modern-living-room-interior-picture-id1184812729?k=6&amp;m=1184812729&amp;s=612x612&amp;w=0&amp;h=YZrPwxrJcIucc05U25_q2Zpq7aPdCyXqtDxnUVfC4c0=\"/>,\n",
       " <img class=\"gallery-asset__thumb gallery-mosaic-asset__thumb\" src=\"https://media.istockphoto.com/photos/well-furnished-living-room-render-picture-id1217234861?k=6&amp;m=1217234861&amp;s=612x612&amp;w=0&amp;h=iB7GpFBOPexqfbYBap-L9RSvNSAjtaMgm5FULekjWe8=\"/>,\n",
       " <img class=\"gallery-asset__thumb gallery-mosaic-asset__thumb\" src=\"https://media.istockphoto.com/photos/minimal-style-black-living-room-with-vinatage-sofa-3d-render-picture-id1212500239?k=6&amp;m=1212500239&amp;s=612x612&amp;w=0&amp;h=mIxu__YU_QP49JDPp76bGRs4Km8mYCAnGin0CQcVKrw=\"/>,\n",
       " <img class=\"gallery-asset__thumb gallery-mosaic-asset__thumb\" src=\"https://media.istockphoto.com/photos/boy-helping-his-father-painting-the-house-picture-id1180089666?k=6&amp;m=1180089666&amp;s=612x612&amp;w=0&amp;h=QR9l4fK--dGU3EQW5NCba0MvDH0ou3SJNuNWGYppHXE=\"/>,\n",
       " <img class=\"gallery-asset__thumb gallery-mosaic-asset__thumb\" src=\"https://media.istockphoto.com/photos/interior-of-living-room-with-sofa-3d-rendering-picture-id1166335479?k=6&amp;m=1166335479&amp;s=612x612&amp;w=0&amp;h=rPyzDYNE35KJwvt8j4K2ivCb1n47TP_BVnP-oh6G1c8=\"/>,\n",
       " <img class=\"gallery-asset__thumb gallery-mosaic-asset__thumb\" src=\"https://media.istockphoto.com/photos/elegant-living-room-with-sofa-picture-id1172825989?k=6&amp;m=1172825989&amp;s=612x612&amp;w=0&amp;h=tOVQFmWOzWdG3CgHYB20Fi76WiGWMVTBak99uhBIVlc=\"/>,\n",
       " <img class=\"gallery-asset__thumb gallery-mosaic-asset__thumb\" src=\"https://media.istockphoto.com/photos/woman-painting-her-house-and-holding-a-color-palette-picture-id1188217403?k=6&amp;m=1188217403&amp;s=612x612&amp;w=0&amp;h=m1-cllmcMjzL0iOofEkp7Bbn3twbqHV3IlJmjngzFi8=\"/>,\n",
       " <img class=\"gallery-asset__thumb gallery-mosaic-asset__thumb\" src=\"https://media.istockphoto.com/photos/classic-beige-interior-with-sofa-armchairs-coffee-table-carpet-and-picture-id1207196925?k=6&amp;m=1207196925&amp;s=612x612&amp;w=0&amp;h=4Pu1GOZZS-0K1ep05M4EtNO-ihCOkWMWkcImAu58YrU=\"/>,\n",
       " <img class=\"gallery-asset__thumb gallery-mosaic-asset__thumb\" src=\"https://media.istockphoto.com/photos/unrecognizable-interior-designer-working-on-a-home-renovation-sketch-picture-id1181691296?k=6&amp;m=1181691296&amp;s=612x612&amp;w=0&amp;h=ysCqouHY74RwB57vRPkuLkkkVrsSGmGqhZ7S9LEJdXE=\"/>,\n",
       " <img class=\"gallery-asset__thumb gallery-mosaic-asset__thumb\" src=\"https://media.istockphoto.com/photos/pink-room-with-green-armchair-picture-id646996068?k=6&amp;m=646996068&amp;s=612x612&amp;w=0&amp;h=fFRKvo8V2E5wdp_l7g5k0WONq3oKFf-aBWcPO0pu6Ro=\"/>,\n",
       " <img class=\"gallery-asset__thumb gallery-mosaic-asset__thumb\" src=\"https://media.istockphoto.com/photos/white-industrial-kitchen-picture-id1181076262?k=6&amp;m=1181076262&amp;s=612x612&amp;w=0&amp;h=K9a9daq15XIyG0xShrPO8IEdqx3V4KzFipzeiDtVV7U=\"/>,\n",
       " <img class=\"gallery-asset__thumb gallery-mosaic-asset__thumb\" src=\"https://media.istockphoto.com/photos/stylish-and-modern-composition-of-living-room-with-design-gray-gold-picture-id1198614721?k=6&amp;m=1198614721&amp;s=612x612&amp;w=0&amp;h=YgoYC5VQL-zLCPoGYatA8uQGbiHgbyZFNMLZ2Q8AXIY=\"/>,\n",
       " <img class=\"gallery-asset__thumb gallery-mosaic-asset__thumb\" src=\"https://media.istockphoto.com/photos/dining-room-in-a-modern-kitchen-picture-id1219335129?k=6&amp;m=1219335129&amp;s=612x612&amp;w=0&amp;h=ulISXZyAY06IvFVRm8VcYqjw8DwAB-Y9CxiQtoxLKTs=\"/>,\n",
       " <img class=\"gallery-asset__thumb gallery-mosaic-asset__thumb\" src=\"https://media.istockphoto.com/photos/interior-design-concept-apartment-sketch-with-color-palette-and-tools-picture-id1206901205?k=6&amp;m=1206901205&amp;s=612x612&amp;w=0&amp;h=VW0y1RqcoUe_FTfBD5kKChelR2K0iGT5JWd8uU_qMHI=\"/>,\n",
       " <img class=\"gallery-asset__thumb gallery-mosaic-asset__thumb\" src=\"https://media.istockphoto.com/photos/mock-up-modern-living-room-interior-design-with-red-sofa-3d-render-picture-id1203742150?k=6&amp;m=1203742150&amp;s=612x612&amp;w=0&amp;h=1B9Zl5lEC7aY2niU626sq9dSHIdQfL7AZd6tDn9PmNI=\"/>,\n",
       " <img class=\"gallery-asset__thumb gallery-mosaic-asset__thumb\" src=\"https://media.istockphoto.com/photos/modern-cozy-interior-picture-id1185756042?k=6&amp;m=1185756042&amp;s=612x612&amp;w=0&amp;h=EJkwYL9ria37uo-PktmAveya7JR7qOswH-4DkbdDc6U=\"/>,\n",
       " <img class=\"gallery-asset__thumb gallery-mosaic-asset__thumb\" src=\"https://media.istockphoto.com/photos/modern-hipster-apartment-interior-picture-id842254818?k=6&amp;m=842254818&amp;s=612x612&amp;w=0&amp;h=ThwHN-gRPa55W21t7qZhfiSLi2Iazv66hrp-uvy9Exg=\"/>,\n",
       " <img class=\"gallery-asset__thumb gallery-mosaic-asset__thumb\" src=\"https://media.istockphoto.com/photos/render-of-bathroom-picture-id1158070163?k=6&amp;m=1158070163&amp;s=612x612&amp;w=0&amp;h=-zetVL6TIPKc3DmcFLgULoFxz-oNFU4lhzIY8yATymE=\"/>,\n",
       " <img class=\"gallery-asset__thumb gallery-mosaic-asset__thumb\" src=\"https://media.istockphoto.com/photos/classic-gray-interior-with-armchairs-sofa-coffee-table-lamps-flowers-picture-id1210123439?k=6&amp;m=1210123439&amp;s=612x612&amp;w=0&amp;h=DMlX6hEfQBzNrheWBFDJYyC54Sgs7nKb2CTspVqFJYg=\"/>,\n",
       " <img class=\"gallery-asset__thumb gallery-mosaic-asset__thumb\" src=\"https://media.istockphoto.com/photos/immersed-in-a-work-culture-of-creativity-picture-id1210026721?k=6&amp;m=1210026721&amp;s=612x612&amp;w=0&amp;h=Gio14vPvceOpRSg7HkXC3KlfyjlBFu9x44csqfCkTqw=\"/>,\n",
       " <img class=\"gallery-asset__thumb gallery-mosaic-asset__thumb\" src=\"https://media.istockphoto.com/photos/flooring-and-laminate-furniture-material-samples-for-interior-design-picture-id1197433947?k=6&amp;m=1197433947&amp;s=612x612&amp;w=0&amp;h=8qz0vPYzI68_WrIhqT-lRk5zKiYM5yIUBtgWWvSP3NU=\"/>,\n",
       " <img class=\"gallery-asset__thumb gallery-mosaic-asset__thumb\" src=\"https://media.istockphoto.com/photos/interior-designer-talking-with-couple-in-showroom-picture-id83266077?k=6&amp;m=83266077&amp;s=612x612&amp;w=0&amp;h=1ZOqVMnBVyHz5DhyVrlyGXp0-7S8Can3upJglA4fUmQ=\"/>,\n",
       " <img class=\"gallery-asset__thumb gallery-mosaic-asset__thumb\" src=\"https://media.istockphoto.com/photos/architects-interior-designer-hands-working-with-tablet-computer-picture-id485624142?k=6&amp;m=485624142&amp;s=612x612&amp;w=0&amp;h=8kTQKs9C1nixaOPkaivjJOehLrfYP7XjaJsQjqx3EYQ=\"/>,\n",
       " <img class=\"gallery-asset__thumb gallery-mosaic-asset__thumb\" src=\"https://media.istockphoto.com/photos/computer-generated-image-of-arm-chair-in-living-room-picture-id1217234785?k=6&amp;m=1217234785&amp;s=612x612&amp;w=0&amp;h=xIOfT2zgcB55bj2Aig6V7xtgG-cFNTKB-D8JD_bEDDU=\"/>,\n",
       " <img class=\"gallery-asset__thumb gallery-mosaic-asset__thumb\" src=\"https://media.istockphoto.com/photos/rendering-of-a-children-room-with-a-single-bed-picture-id1217234752?k=6&amp;m=1217234752&amp;s=612x612&amp;w=0&amp;h=Siqx47d-5qE6OLX-jCZbb0nHgfb9Rk20fWp7BKcMPd0=\"/>,\n",
       " <img class=\"gallery-asset__thumb gallery-mosaic-asset__thumb\" src=\"https://media.istockphoto.com/photos/modern-and-bohemian-composition-of-interior-design-with-gray-sofa-picture-id1166445580?k=6&amp;m=1166445580&amp;s=612x612&amp;w=0&amp;h=ey4ayW7qvGCa8sqWnr0YD6lY_02v37xsoPh9GLWDtkg=\"/>,\n",
       " <img class=\"gallery-asset__thumb gallery-mosaic-asset__thumb\" src=\"https://media.istockphoto.com/photos/fashionable-vintage-styled-living-room-picture-id667507168?k=6&amp;m=667507168&amp;s=612x612&amp;w=0&amp;h=-iRzKs6IjzsZlcizmDoEjs2HnvZnk6S5OtWN8difOjE=\"/>,\n",
       " <img class=\"gallery-asset__thumb gallery-mosaic-asset__thumb\" src=\"https://media.istockphoto.com/photos/modern-scandinavian-home-interior-with-design-wooden-commode-plants-picture-id1178534736?k=6&amp;m=1178534736&amp;s=612x612&amp;w=0&amp;h=IWhjx5Z2H1yD59ZBAHJCdUBFmwCt_alrWtUA2Q6n7MM=\"/>,\n",
       " <img class=\"gallery-asset__thumb gallery-mosaic-asset__thumb\" src=\"https://media.istockphoto.com/photos/interior-design-books-on-table-picture-id88583422?k=6&amp;m=88583422&amp;s=612x612&amp;w=0&amp;h=KpMQiREKCqpj6VjaZ8uZ55UjrJLMC1Js9dfCJBtLZSQ=\"/>,\n",
       " <img class=\"gallery-asset__thumb gallery-mosaic-asset__thumb\" src=\"https://media.istockphoto.com/photos/kitchen-in-new-luxury-home-picture-id1160708490?k=6&amp;m=1160708490&amp;s=612x612&amp;w=0&amp;h=phcPbDyE2kPsvalnhLGnGVepLRWauu1RliQebMW7RjI=\"/>,\n",
       " <img class=\"gallery-asset__thumb gallery-mosaic-asset__thumb\" src=\"https://media.istockphoto.com/photos/interior-with-armchair-and-coffee-table-3d-rendering-picture-id1158575634?k=6&amp;m=1158575634&amp;s=612x612&amp;w=0&amp;h=Fkh9dLz9W8TKkKwJstagndsCu92badT0y6m-w8iqB-g=\"/>,\n",
       " <img class=\"gallery-asset__thumb gallery-mosaic-asset__thumb\" src=\"https://media.istockphoto.com/photos/living-room-interior-with-picture-frame-on-gray-walls-picture-id1184180042?k=6&amp;m=1184180042&amp;s=612x612&amp;w=0&amp;h=gZ9eM6vAFmygOorH3OOJSwWXwUb0eD0cagsHR13axro=\"/>,\n",
       " <img class=\"gallery-asset__thumb gallery-mosaic-asset__thumb\" src=\"https://media.istockphoto.com/photos/designer-working-in-office-doing-furniture-and-flooring-material-picture-id1199197780?k=6&amp;m=1199197780&amp;s=612x612&amp;w=0&amp;h=yJerzR0NmPPnssnU4htp-iW8XNQ11G2PRLt9OLUiyzc=\"/>,\n",
       " <img class=\"gallery-asset__thumb gallery-mosaic-asset__thumb\" src=\"https://media.istockphoto.com/photos/living-room-picture-id116378455?k=6&amp;m=116378455&amp;s=612x612&amp;w=0&amp;h=Da5VwzUH9vQq1VUpDhRXz5kjvbLkHezmhN9H4BbA2Vg=\"/>,\n",
       " <img class=\"gallery-asset__thumb gallery-mosaic-asset__thumb\" src=\"https://media.istockphoto.com/photos/stylish-interior-design-with-retro-wooden-cabinet-chair-mint-sofa-picture-id1211425506?k=6&amp;m=1211425506&amp;s=612x612&amp;w=0&amp;h=r0M8Y_Kns9v5JQpw5wMBZ8N1NIL4ZBKF_sPSCljJz0c=\"/>,\n",
       " <img class=\"gallery-asset__thumb gallery-mosaic-asset__thumb\" src=\"https://media.istockphoto.com/photos/vintage-home-study-room-picture-id1226220010?k=6&amp;m=1226220010&amp;s=612x612&amp;w=0&amp;h=8H0GQtalGIxwy16PFFm2HnWPmYwCu8JbjQqwJP-Nla4=\"/>,\n",
       " <img class=\"gallery-asset__thumb gallery-mosaic-asset__thumb\" src=\"https://media.istockphoto.com/photos/render-of-luxury-bathroom-picture-id1181657036?k=6&amp;m=1181657036&amp;s=612x612&amp;w=0&amp;h=n8drhSdVnf1oZEi9jYDh8v5L2lPrirVZBCHk4ecy-Wk=\"/>,\n",
       " <img class=\"gallery-asset__thumb gallery-mosaic-asset__thumb\" src=\"https://media.istockphoto.com/photos/beautiful-contemporary-kitchen-and-living-room-picture-id840845928?k=6&amp;m=840845928&amp;s=612x612&amp;w=0&amp;h=FKmx4Z6fWDn5G6rDglfo_L3Dk89MSwjtj_S6SrZHA2M=\"/>,\n",
       " <img class=\"gallery-asset__thumb gallery-mosaic-asset__thumb\" src=\"https://media.istockphoto.com/photos/modern-villa-interior-picture-id500276137?k=6&amp;m=500276137&amp;s=612x612&amp;w=0&amp;h=Odluosy7nD_VD43GZGZJWLcNaiAI2TOJBUJAAmlNs9U=\"/>,\n",
       " <img class=\"gallery-asset__thumb gallery-mosaic-asset__thumb\" src=\"https://media.istockphoto.com/photos/stylish-retro-composition-of-home-office-interior-with-vintage-wooden-picture-id1205761045?k=6&amp;m=1205761045&amp;s=612x612&amp;w=0&amp;h=BM0tymg9zo7UkS-eR20O0ebhBTMtBrib1OhFTHmL0as=\"/>,\n",
       " <img class=\"gallery-asset__thumb gallery-mosaic-asset__thumb\" src=\"https://media.istockphoto.com/photos/construction-worker-during-interior-decoration-picture-id928423128?k=6&amp;m=928423128&amp;s=612x612&amp;w=0&amp;h=o1GkUDU-l0yAF2lvHhhLizP6lHDQB_Ml3nUzraLAaN4=\"/>,\n",
       " <img class=\"gallery-asset__thumb gallery-mosaic-asset__thumb\" src=\"https://media.istockphoto.com/photos/sparse-and-modern-kitchen-interior-with-glass-wall-picture-id1211820357?k=6&amp;m=1211820357&amp;s=612x612&amp;w=0&amp;h=IjfU3RZ8WA-_W-tbRKkQ9iPA1QjSZQV4n1GlyJp541o=\"/>,\n",
       " <img class=\"gallery-asset__thumb gallery-mosaic-asset__thumb\" src=\"https://media.istockphoto.com/photos/bathroom-in-new-luxury-home-with-two-sinks-and-dark-blue-cabinets-picture-id1067058352?k=6&amp;m=1067058352&amp;s=612x612&amp;w=0&amp;h=3j1dZvPkwWxSZyxZxG8WIQQhfvlNI131To7kB7rTluk=\"/>,\n",
       " <img class=\"gallery-asset__thumb gallery-mosaic-asset__thumb\" src=\"https://media.istockphoto.com/photos/pastel-colored-sofa-with-blank-wall-template-picture-id899419428?k=6&amp;m=899419428&amp;s=612x612&amp;w=0&amp;h=IxXnmFbVXfOlST8podLqwqGsizLUqQpPRH9PLD9dWuw=\"/>,\n",
       " <img class=\"gallery-asset__thumb gallery-mosaic-asset__thumb\" src=\"https://media.istockphoto.com/photos/modern-interior-with-kitchen-and-dining-room-picture-id1187142335?k=6&amp;m=1187142335&amp;s=612x612&amp;w=0&amp;h=YGVECWqOakKnHQA1pQoXnSJMHMDXwdNipdIqs_VXPac=\"/>,\n",
       " <img class=\"gallery-asset__thumb gallery-mosaic-asset__thumb\" src=\"https://media.istockphoto.com/photos/modern-kitchen-interior-design-picture-id1165365379?k=6&amp;m=1165365379&amp;s=612x612&amp;w=0&amp;h=Uz2d_4NbMvonR7e3agtg87vtuPDf2xem8XIRQthFZQw=\"/>,\n",
       " <img class=\"gallery-asset__thumb gallery-mosaic-asset__thumb\" src=\"https://media.istockphoto.com/photos/pastel-colored-sofa-with-blank-wall-template-picture-id899419458?k=6&amp;m=899419458&amp;s=612x612&amp;w=0&amp;h=QhSlEuV5k-v0ToqKsTqooFRKDLVv4wy-WUSiJ0AMHic=\"/>,\n",
       " <img class=\"gallery-asset__thumb gallery-mosaic-asset__thumb\" src=\"https://media.istockphoto.com/photos/contemporary-bedroom-room-picture-id1175675357?k=6&amp;m=1175675357&amp;s=612x612&amp;w=0&amp;h=W2nH7XanVnlAqU7UTO1WTsUTyvPL9-pov4BZhqMINnM=\"/>,\n",
       " <img class=\"gallery-asset__thumb gallery-mosaic-asset__thumb\" src=\"https://media.istockphoto.com/photos/housing-project-picture-id1173183369?k=6&amp;m=1173183369&amp;s=612x612&amp;w=0&amp;h=vagaNTO4F_XPKZtGK25-5yVcFmMvgGSumfIH4QJG_e8=\"/>,\n",
       " <img class=\"gallery-asset__thumb gallery-mosaic-asset__thumb\" src=\"https://media.istockphoto.com/photos/modern-living-room-with-smart-tv-picture-id1185196040?k=6&amp;m=1185196040&amp;s=612x612&amp;w=0&amp;h=nJI7RKnPGFWfV_xmPsXNXkObTQs87AmGKb5eOyrYokQ=\"/>,\n",
       " <img class=\"gallery-asset__thumb gallery-mosaic-asset__thumb\" src=\"https://media.istockphoto.com/photos/modern-home-office-interior-picture-id1223852934?k=6&amp;m=1223852934&amp;s=612x612&amp;w=0&amp;h=Z5CBwt31FLUXF77zq9SGCz4Bes1PirRikMqIU15sLBE=\"/>,\n",
       " <img class=\"gallery-asset__thumb gallery-mosaic-asset__thumb\" src=\"https://media.istockphoto.com/photos/beautiful-living-room-interior-picture-id1175662911?k=6&amp;m=1175662911&amp;s=612x612&amp;w=0&amp;h=g-0Luh3y4Jaw1Ks5GpYCRbbTpcyUWnmyeI2CQESee9U=\"/>]"
      ]
     },
     "execution_count": 5,
     "metadata": {},
     "output_type": "execute_result"
    }
   ],
   "source": [
    "# find all the img \n",
    "soup.find_all(\"img\", class_=\"gallery-asset__thumb gallery-mosaic-asset__thumb\")"
   ]
  },
  {
   "cell_type": "code",
   "execution_count": 5,
   "metadata": {},
   "outputs": [
    {
     "name": "stdout",
     "output_type": "stream",
     "text": [
      "Collecting selenium\n",
      "  Using cached selenium-3.141.0-py2.py3-none-any.whl (904 kB)\n",
      "Requirement already satisfied: urllib3 in /Users/georgebrockman/opt/anaconda3/lib/python3.7/site-packages (from selenium) (1.25.8)\n",
      "Installing collected packages: selenium\n",
      "Successfully installed selenium-3.141.0\n"
     ]
    }
   ],
   "source": [
    "import sys\n",
    "!{sys.executable} -m pip install selenium"
   ]
  },
  {
   "cell_type": "code",
   "execution_count": 17,
   "metadata": {},
   "outputs": [],
   "source": [
    "import selenium\n",
    "from selenium import webdriver\n",
    "# This is the path I use\n",
    "# DRIVER_PATH = '.../Desktop/Scraping/chromedriver 2'\n",
    "# Put the path for your ChromeDriver here\n",
    "DRIVER_PATH = '/Users/georgebrockman/code/georgebrockman/Autoenhance.ai/RoomDetection/chromedriver'\n",
    "wd = webdriver.Chrome(executable_path=DRIVER_PATH)"
   ]
  },
  {
   "cell_type": "code",
   "execution_count": 83,
   "metadata": {},
   "outputs": [],
   "source": [
    "from PIL import Image\n",
    "import requests\n",
    "import os\n",
    "from selenium import webdriver\n",
    "import time \n",
    "import io\n",
    "import hashlib\n",
    "\n",
    "\n",
    "def fetch_image_urls(query:str, max_links_to_fetch:int, wd:webdriver, sleep_between_interactions:int=1):\n",
    "    def scroll_to_end(wd):\n",
    "        wd.execute_script(\"window.scrollTo(0, document.body.scrollHeight);\")\n",
    "        time.sleep(sleep_between_interactions)\n",
    "\n",
    "    # build the google query\n",
    "    search_url = \"https://www.google.com/search?safe=off&site=&tbm=isch&source=hp&q={q}&oq={q}&gs_l=img\"\n",
    "\n",
    "    # load the page\n",
    "    wd.get(search_url.format(q=query))\n",
    "\n",
    "    image_urls = set()\n",
    "    image_count = 0\n",
    "    results_start = 0\n",
    "    while image_count < max_links_to_fetch:\n",
    "        scroll_to_end(wd)\n",
    "\n",
    "        # get all image thumbnail results\n",
    "        thumbnail_results = wd.find_elements_by_css_selector(\"img.Q4LuWd\")\n",
    "        number_results = len(thumbnail_results)\n",
    "\n",
    "        print(f\"Found: {number_results} search results. Extracting links from {results_start}:{number_results}\")\n",
    "\n",
    "        for img in thumbnail_results[results_start:number_results]:\n",
    "            # try to click every thumbnail such that we can get the real image behind it\n",
    "            try:\n",
    "                img.click()\n",
    "                time.sleep(sleep_between_interactions)\n",
    "            except Exception:\n",
    "                continue\n",
    "\n",
    "            # extract image urls\n",
    "            actual_images = wd.find_elements_by_css_selector('img.n3VNCb')\n",
    "            for actual_image in actual_images:\n",
    "                if actual_image.get_attribute('src') and 'http' in actual_image.get_attribute('src'):\n",
    "                    image_urls.add(actual_image.get_attribute('src'))\n",
    "\n",
    "            image_count = len(image_urls)\n",
    "\n",
    "            if len(image_urls) >= max_links_to_fetch:\n",
    "                print(f\"Found: {len(image_urls)} image links, done!\")\n",
    "                break\n",
    "        else:\n",
    "            print(\"Found:\", len(image_urls), \"image links, looking for more ...\")\n",
    "            time.sleep(30)\n",
    "            return\n",
    "            load_more_button = wd.find_element_by_css_selector(\".mye4qd\")\n",
    "            if load_more_button:\n",
    "                wd.execute_script(\"document.querySelector('.mye4qd').click();\")\n",
    "\n",
    "        # move the result startpoint further down\n",
    "        results_start = len(thumbnail_results)\n",
    "\n",
    "    return image_urls\n",
    "\n",
    "def persist_image(folder_path:str,url:str):\n",
    "    try:\n",
    "        image_content = requests.get(url).content\n",
    "\n",
    "    except Exception as e:\n",
    "        print(f\"ERROR - Could not download {url} - {e}\")\n",
    "\n",
    "    try:\n",
    "        image_file = io.BytesIO(image_content)\n",
    "        image = Image.open(image_file).convert('RGB')\n",
    "        file_path = os.path.join(folder_path,hashlib.sha1(image_content).hexdigest()[:10] + '.jpg')\n",
    "        with open(file_path, 'wb') as f:\n",
    "            image.save(f, \"JPEG\", quality=85)\n",
    "        print(f\"SUCCESS - saved {url} - as {file_path}\")\n",
    "    except Exception as e:\n",
    "        print(f\"ERROR - Could not save {url} - {e}\")\n",
    "\n",
    "def search_and_download(search_term:str,driver_path:str,target_path='./images',number_images=40):\n",
    "    target_folder = os.path.join(target_path,'_'.join(search_term.lower().split(' ')))\n",
    "\n",
    "    if not os.path.exists(target_folder):\n",
    "        os.makedirs(target_folder)\n",
    "\n",
    "    with webdriver.Chrome(executable_path=driver_path) as wd:\n",
    "        res = fetch_image_urls(search_term, number_images, wd=wd, sleep_between_interactions=0.5)\n",
    "\n",
    "    for elem in res:\n",
    "        persist_image(target_folder,elem)\n"
   ]
  },
  {
   "cell_type": "code",
   "execution_count": 81,
   "metadata": {
    "collapsed": true
   },
   "outputs": [
    {
     "name": "stdout",
     "output_type": "stream",
     "text": [
      "Found: 100 search results. Extracting links from 0:100\n"
     ]
    },
    {
     "ename": "NoSuchWindowException",
     "evalue": "Message: no such window: window was already closed\n  (Session info: chrome=87.0.4280.67)\n",
     "output_type": "error",
     "traceback": [
      "\u001b[0;31m---------------------------------------------------------------------------\u001b[0m",
      "\u001b[0;31mNoSuchWindowException\u001b[0m                     Traceback (most recent call last)",
      "\u001b[0;32m<ipython-input-81-f193b071fce7>\u001b[0m in \u001b[0;36m<module>\u001b[0;34m\u001b[0m\n\u001b[1;32m      1\u001b[0m \u001b[0msearch_term\u001b[0m \u001b[0;34m=\u001b[0m \u001b[0;34m'home office'\u001b[0m\u001b[0;34m\u001b[0m\u001b[0;34m\u001b[0m\u001b[0m\n\u001b[1;32m      2\u001b[0m \u001b[0;34m\u001b[0m\u001b[0m\n\u001b[0;32m----> 3\u001b[0;31m \u001b[0msearch_and_download\u001b[0m\u001b[0;34m(\u001b[0m\u001b[0msearch_term\u001b[0m\u001b[0;34m=\u001b[0m\u001b[0msearch_term\u001b[0m\u001b[0;34m,\u001b[0m \u001b[0mdriver_path\u001b[0m\u001b[0;34m=\u001b[0m\u001b[0mDRIVER_PATH\u001b[0m\u001b[0;34m)\u001b[0m\u001b[0;34m\u001b[0m\u001b[0;34m\u001b[0m\u001b[0m\n\u001b[0m",
      "\u001b[0;32m<ipython-input-80-9fedac97288e>\u001b[0m in \u001b[0;36msearch_and_download\u001b[0;34m(search_term, driver_path, target_path, number_images)\u001b[0m\n\u001b[1;32m     87\u001b[0m \u001b[0;34m\u001b[0m\u001b[0m\n\u001b[1;32m     88\u001b[0m     \u001b[0;32mwith\u001b[0m \u001b[0mwebdriver\u001b[0m\u001b[0;34m.\u001b[0m\u001b[0mChrome\u001b[0m\u001b[0;34m(\u001b[0m\u001b[0mexecutable_path\u001b[0m\u001b[0;34m=\u001b[0m\u001b[0mdriver_path\u001b[0m\u001b[0;34m)\u001b[0m \u001b[0;32mas\u001b[0m \u001b[0mwd\u001b[0m\u001b[0;34m:\u001b[0m\u001b[0;34m\u001b[0m\u001b[0;34m\u001b[0m\u001b[0m\n\u001b[0;32m---> 89\u001b[0;31m         \u001b[0mres\u001b[0m \u001b[0;34m=\u001b[0m \u001b[0mfetch_image_urls\u001b[0m\u001b[0;34m(\u001b[0m\u001b[0msearch_term\u001b[0m\u001b[0;34m,\u001b[0m \u001b[0mnumber_images\u001b[0m\u001b[0;34m,\u001b[0m \u001b[0mwd\u001b[0m\u001b[0;34m=\u001b[0m\u001b[0mwd\u001b[0m\u001b[0;34m,\u001b[0m \u001b[0msleep_between_interactions\u001b[0m\u001b[0;34m=\u001b[0m\u001b[0;36m0.5\u001b[0m\u001b[0;34m)\u001b[0m\u001b[0;34m\u001b[0m\u001b[0;34m\u001b[0m\u001b[0m\n\u001b[0m\u001b[1;32m     90\u001b[0m \u001b[0;34m\u001b[0m\u001b[0m\n\u001b[1;32m     91\u001b[0m     \u001b[0;32mfor\u001b[0m \u001b[0melem\u001b[0m \u001b[0;32min\u001b[0m \u001b[0mres\u001b[0m\u001b[0;34m:\u001b[0m\u001b[0;34m\u001b[0m\u001b[0;34m\u001b[0m\u001b[0m\n",
      "\u001b[0;32m<ipython-input-80-9fedac97288e>\u001b[0m in \u001b[0;36mfetch_image_urls\u001b[0;34m(query, max_links_to_fetch, wd, sleep_between_interactions)\u001b[0m\n\u001b[1;32m     40\u001b[0m \u001b[0;34m\u001b[0m\u001b[0m\n\u001b[1;32m     41\u001b[0m             \u001b[0;31m# extract image urls\u001b[0m\u001b[0;34m\u001b[0m\u001b[0;34m\u001b[0m\u001b[0;34m\u001b[0m\u001b[0m\n\u001b[0;32m---> 42\u001b[0;31m             \u001b[0mactual_images\u001b[0m \u001b[0;34m=\u001b[0m \u001b[0mwd\u001b[0m\u001b[0;34m.\u001b[0m\u001b[0mfind_elements_by_css_selector\u001b[0m\u001b[0;34m(\u001b[0m\u001b[0;34m'img.n3VNCb'\u001b[0m\u001b[0;34m)\u001b[0m\u001b[0;34m\u001b[0m\u001b[0;34m\u001b[0m\u001b[0m\n\u001b[0m\u001b[1;32m     43\u001b[0m             \u001b[0;32mfor\u001b[0m \u001b[0mactual_image\u001b[0m \u001b[0;32min\u001b[0m \u001b[0mactual_images\u001b[0m\u001b[0;34m:\u001b[0m\u001b[0;34m\u001b[0m\u001b[0;34m\u001b[0m\u001b[0m\n\u001b[1;32m     44\u001b[0m                 \u001b[0;32mif\u001b[0m \u001b[0mactual_image\u001b[0m\u001b[0;34m.\u001b[0m\u001b[0mget_attribute\u001b[0m\u001b[0;34m(\u001b[0m\u001b[0;34m'src'\u001b[0m\u001b[0;34m)\u001b[0m \u001b[0;32mand\u001b[0m \u001b[0;34m'http'\u001b[0m \u001b[0;32min\u001b[0m \u001b[0mactual_image\u001b[0m\u001b[0;34m.\u001b[0m\u001b[0mget_attribute\u001b[0m\u001b[0;34m(\u001b[0m\u001b[0;34m'src'\u001b[0m\u001b[0;34m)\u001b[0m\u001b[0;34m:\u001b[0m\u001b[0;34m\u001b[0m\u001b[0;34m\u001b[0m\u001b[0m\n",
      "\u001b[0;32m~/opt/anaconda3/lib/python3.7/site-packages/selenium/webdriver/remote/webdriver.py\u001b[0m in \u001b[0;36mfind_elements_by_css_selector\u001b[0;34m(self, css_selector)\u001b[0m\n\u001b[1;32m    612\u001b[0m             \u001b[0melements\u001b[0m \u001b[0;34m=\u001b[0m \u001b[0mdriver\u001b[0m\u001b[0;34m.\u001b[0m\u001b[0mfind_elements_by_css_selector\u001b[0m\u001b[0;34m(\u001b[0m\u001b[0;34m'.foo'\u001b[0m\u001b[0;34m)\u001b[0m\u001b[0;34m\u001b[0m\u001b[0;34m\u001b[0m\u001b[0m\n\u001b[1;32m    613\u001b[0m         \"\"\"\n\u001b[0;32m--> 614\u001b[0;31m         \u001b[0;32mreturn\u001b[0m \u001b[0mself\u001b[0m\u001b[0;34m.\u001b[0m\u001b[0mfind_elements\u001b[0m\u001b[0;34m(\u001b[0m\u001b[0mby\u001b[0m\u001b[0;34m=\u001b[0m\u001b[0mBy\u001b[0m\u001b[0;34m.\u001b[0m\u001b[0mCSS_SELECTOR\u001b[0m\u001b[0;34m,\u001b[0m \u001b[0mvalue\u001b[0m\u001b[0;34m=\u001b[0m\u001b[0mcss_selector\u001b[0m\u001b[0;34m)\u001b[0m\u001b[0;34m\u001b[0m\u001b[0;34m\u001b[0m\u001b[0m\n\u001b[0m\u001b[1;32m    615\u001b[0m \u001b[0;34m\u001b[0m\u001b[0m\n\u001b[1;32m    616\u001b[0m     \u001b[0;32mdef\u001b[0m \u001b[0mexecute_script\u001b[0m\u001b[0;34m(\u001b[0m\u001b[0mself\u001b[0m\u001b[0;34m,\u001b[0m \u001b[0mscript\u001b[0m\u001b[0;34m,\u001b[0m \u001b[0;34m*\u001b[0m\u001b[0margs\u001b[0m\u001b[0;34m)\u001b[0m\u001b[0;34m:\u001b[0m\u001b[0;34m\u001b[0m\u001b[0;34m\u001b[0m\u001b[0m\n",
      "\u001b[0;32m~/opt/anaconda3/lib/python3.7/site-packages/selenium/webdriver/remote/webdriver.py\u001b[0m in \u001b[0;36mfind_elements\u001b[0;34m(self, by, value)\u001b[0m\n\u001b[1;32m   1005\u001b[0m         return self.execute(Command.FIND_ELEMENTS, {\n\u001b[1;32m   1006\u001b[0m             \u001b[0;34m'using'\u001b[0m\u001b[0;34m:\u001b[0m \u001b[0mby\u001b[0m\u001b[0;34m,\u001b[0m\u001b[0;34m\u001b[0m\u001b[0;34m\u001b[0m\u001b[0m\n\u001b[0;32m-> 1007\u001b[0;31m             'value': value})['value'] or []\n\u001b[0m\u001b[1;32m   1008\u001b[0m \u001b[0;34m\u001b[0m\u001b[0m\n\u001b[1;32m   1009\u001b[0m     \u001b[0;34m@\u001b[0m\u001b[0mproperty\u001b[0m\u001b[0;34m\u001b[0m\u001b[0;34m\u001b[0m\u001b[0m\n",
      "\u001b[0;32m~/opt/anaconda3/lib/python3.7/site-packages/selenium/webdriver/remote/webdriver.py\u001b[0m in \u001b[0;36mexecute\u001b[0;34m(self, driver_command, params)\u001b[0m\n\u001b[1;32m    319\u001b[0m         \u001b[0mresponse\u001b[0m \u001b[0;34m=\u001b[0m \u001b[0mself\u001b[0m\u001b[0;34m.\u001b[0m\u001b[0mcommand_executor\u001b[0m\u001b[0;34m.\u001b[0m\u001b[0mexecute\u001b[0m\u001b[0;34m(\u001b[0m\u001b[0mdriver_command\u001b[0m\u001b[0;34m,\u001b[0m \u001b[0mparams\u001b[0m\u001b[0;34m)\u001b[0m\u001b[0;34m\u001b[0m\u001b[0;34m\u001b[0m\u001b[0m\n\u001b[1;32m    320\u001b[0m         \u001b[0;32mif\u001b[0m \u001b[0mresponse\u001b[0m\u001b[0;34m:\u001b[0m\u001b[0;34m\u001b[0m\u001b[0;34m\u001b[0m\u001b[0m\n\u001b[0;32m--> 321\u001b[0;31m             \u001b[0mself\u001b[0m\u001b[0;34m.\u001b[0m\u001b[0merror_handler\u001b[0m\u001b[0;34m.\u001b[0m\u001b[0mcheck_response\u001b[0m\u001b[0;34m(\u001b[0m\u001b[0mresponse\u001b[0m\u001b[0;34m)\u001b[0m\u001b[0;34m\u001b[0m\u001b[0;34m\u001b[0m\u001b[0m\n\u001b[0m\u001b[1;32m    322\u001b[0m             response['value'] = self._unwrap_value(\n\u001b[1;32m    323\u001b[0m                 response.get('value', None))\n",
      "\u001b[0;32m~/opt/anaconda3/lib/python3.7/site-packages/selenium/webdriver/remote/errorhandler.py\u001b[0m in \u001b[0;36mcheck_response\u001b[0;34m(self, response)\u001b[0m\n\u001b[1;32m    240\u001b[0m                 \u001b[0malert_text\u001b[0m \u001b[0;34m=\u001b[0m \u001b[0mvalue\u001b[0m\u001b[0;34m[\u001b[0m\u001b[0;34m'alert'\u001b[0m\u001b[0;34m]\u001b[0m\u001b[0;34m.\u001b[0m\u001b[0mget\u001b[0m\u001b[0;34m(\u001b[0m\u001b[0;34m'text'\u001b[0m\u001b[0;34m)\u001b[0m\u001b[0;34m\u001b[0m\u001b[0;34m\u001b[0m\u001b[0m\n\u001b[1;32m    241\u001b[0m             \u001b[0;32mraise\u001b[0m \u001b[0mexception_class\u001b[0m\u001b[0;34m(\u001b[0m\u001b[0mmessage\u001b[0m\u001b[0;34m,\u001b[0m \u001b[0mscreen\u001b[0m\u001b[0;34m,\u001b[0m \u001b[0mstacktrace\u001b[0m\u001b[0;34m,\u001b[0m \u001b[0malert_text\u001b[0m\u001b[0;34m)\u001b[0m\u001b[0;34m\u001b[0m\u001b[0;34m\u001b[0m\u001b[0m\n\u001b[0;32m--> 242\u001b[0;31m         \u001b[0;32mraise\u001b[0m \u001b[0mexception_class\u001b[0m\u001b[0;34m(\u001b[0m\u001b[0mmessage\u001b[0m\u001b[0;34m,\u001b[0m \u001b[0mscreen\u001b[0m\u001b[0;34m,\u001b[0m \u001b[0mstacktrace\u001b[0m\u001b[0;34m)\u001b[0m\u001b[0;34m\u001b[0m\u001b[0;34m\u001b[0m\u001b[0m\n\u001b[0m\u001b[1;32m    243\u001b[0m \u001b[0;34m\u001b[0m\u001b[0m\n\u001b[1;32m    244\u001b[0m     \u001b[0;32mdef\u001b[0m \u001b[0m_value_or_default\u001b[0m\u001b[0;34m(\u001b[0m\u001b[0mself\u001b[0m\u001b[0;34m,\u001b[0m \u001b[0mobj\u001b[0m\u001b[0;34m,\u001b[0m \u001b[0mkey\u001b[0m\u001b[0;34m,\u001b[0m \u001b[0mdefault\u001b[0m\u001b[0;34m)\u001b[0m\u001b[0;34m:\u001b[0m\u001b[0;34m\u001b[0m\u001b[0;34m\u001b[0m\u001b[0m\n",
      "\u001b[0;31mNoSuchWindowException\u001b[0m: Message: no such window: window was already closed\n  (Session info: chrome=87.0.4280.67)\n"
     ]
    }
   ],
   "source": [
    "search_term = 'home office'\n",
    "\n",
    "search_and_download(search_term=search_term, driver_path=DRIVER_PATH)"
   ]
  },
  {
   "cell_type": "code",
   "execution_count": 76,
   "metadata": {
    "collapsed": true
   },
   "outputs": [
    {
     "name": "stdout",
     "output_type": "stream",
     "text": [
      "Found: 48 search results. Extracting links from 0:48\n",
      "Found: 5 image links, looking for more ...\n"
     ]
    },
    {
     "ename": "TypeError",
     "evalue": "'NoneType' object is not iterable",
     "output_type": "error",
     "traceback": [
      "\u001b[0;31m---------------------------------------------------------------------------\u001b[0m",
      "\u001b[0;31mTypeError\u001b[0m                                 Traceback (most recent call last)",
      "\u001b[0;32m<ipython-input-76-fba7c4030d4a>\u001b[0m in \u001b[0;36m<module>\u001b[0;34m\u001b[0m\n\u001b[1;32m      1\u001b[0m \u001b[0msearch_term\u001b[0m \u001b[0;34m=\u001b[0m \u001b[0;34m'landing house'\u001b[0m\u001b[0;34m\u001b[0m\u001b[0;34m\u001b[0m\u001b[0m\n\u001b[1;32m      2\u001b[0m \u001b[0;34m\u001b[0m\u001b[0m\n\u001b[0;32m----> 3\u001b[0;31m \u001b[0msearch_and_download\u001b[0m\u001b[0;34m(\u001b[0m\u001b[0msearch_term\u001b[0m\u001b[0;34m=\u001b[0m\u001b[0msearch_term\u001b[0m\u001b[0;34m,\u001b[0m \u001b[0mdriver_path\u001b[0m\u001b[0;34m=\u001b[0m\u001b[0mDRIVER_PATH\u001b[0m\u001b[0;34m)\u001b[0m\u001b[0;34m\u001b[0m\u001b[0;34m\u001b[0m\u001b[0m\n\u001b[0m",
      "\u001b[0;32m<ipython-input-72-ff658f0828af>\u001b[0m in \u001b[0;36msearch_and_download\u001b[0;34m(search_term, driver_path, target_path, number_images)\u001b[0m\n\u001b[1;32m     89\u001b[0m         \u001b[0mres\u001b[0m \u001b[0;34m=\u001b[0m \u001b[0mfetch_image_urls\u001b[0m\u001b[0;34m(\u001b[0m\u001b[0msearch_term\u001b[0m\u001b[0;34m,\u001b[0m \u001b[0mnumber_images\u001b[0m\u001b[0;34m,\u001b[0m \u001b[0mwd\u001b[0m\u001b[0;34m=\u001b[0m\u001b[0mwd\u001b[0m\u001b[0;34m,\u001b[0m \u001b[0msleep_between_interactions\u001b[0m\u001b[0;34m=\u001b[0m\u001b[0;36m0.5\u001b[0m\u001b[0;34m)\u001b[0m\u001b[0;34m\u001b[0m\u001b[0;34m\u001b[0m\u001b[0m\n\u001b[1;32m     90\u001b[0m \u001b[0;34m\u001b[0m\u001b[0m\n\u001b[0;32m---> 91\u001b[0;31m     \u001b[0;32mfor\u001b[0m \u001b[0melem\u001b[0m \u001b[0;32min\u001b[0m \u001b[0mres\u001b[0m\u001b[0;34m:\u001b[0m\u001b[0;34m\u001b[0m\u001b[0;34m\u001b[0m\u001b[0m\n\u001b[0m\u001b[1;32m     92\u001b[0m         \u001b[0mpersist_image\u001b[0m\u001b[0;34m(\u001b[0m\u001b[0mtarget_folder\u001b[0m\u001b[0;34m,\u001b[0m\u001b[0melem\u001b[0m\u001b[0;34m)\u001b[0m\u001b[0;34m\u001b[0m\u001b[0;34m\u001b[0m\u001b[0m\n",
      "\u001b[0;31mTypeError\u001b[0m: 'NoneType' object is not iterable"
     ]
    }
   ],
   "source": [
    "search_term = 'landing house'\n",
    "\n",
    "search_and_download(search_term=search_term, driver_path=DRIVER_PATH)"
   ]
  },
  {
   "cell_type": "code",
   "execution_count": 84,
   "metadata": {},
   "outputs": [
    {
     "name": "stdout",
     "output_type": "stream",
     "text": [
      "Found: 100 search results. Extracting links from 0:100\n",
      "Found: 40 image links, done!\n",
      "SUCCESS - saved https://image.wrenkitchens.com/frontal_range/j_pull_white_gloss_1881.jpg?q=70&w=510&h=454&fit=crop&s=958902b65076bd0e0318af3a2f449b4b - as ./images/kitchen/02a26cde6b.jpg\n",
      "SUCCESS - saved https://encrypted-tbn0.gstatic.com/images?q=tbn:ANd9GcTu8M-_tk-vbCqdjcAgdtLsivTikfj-Y7MwIA&usqp=CAU - as ./images/kitchen/7f781cb286.jpg\n",
      "SUCCESS - saved https://encrypted-tbn0.gstatic.com/images?q=tbn:ANd9GcTqDd2qqhomA8omKgqIOSf8JWJ3w2zSKgQWkg&usqp=CAU - as ./images/kitchen/cf40294b46.jpg\n",
      "SUCCESS - saved https://encrypted-tbn0.gstatic.com/images?q=tbn:ANd9GcSwevW2s2IeHJESSPMtClIKTyN1-VHgx79pqQ&usqp=CAU - as ./images/kitchen/04543eaa4e.jpg\n",
      "SUCCESS - saved https://encrypted-tbn0.gstatic.com/images?q=tbn:ANd9GcQUgF3u4mhUtoGTwiL0l4uqHxo9BFaCXHkgLw&usqp=CAU - as ./images/kitchen/929c9beed1.jpg\n",
      "SUCCESS - saved https://encrypted-tbn0.gstatic.com/images?q=tbn:ANd9GcQFcNu_35x74HGVWMfUjxIRopdndVOFNvAuVw&usqp=CAU - as ./images/kitchen/1c6323c7a1.jpg\n",
      "SUCCESS - saved https://encrypted-tbn0.gstatic.com/images?q=tbn:ANd9GcTOiiJx3IUSALQ9KVBOj_mOWRNXkqEOMLLrAQ&usqp=CAU - as ./images/kitchen/c8706cf738.jpg\n",
      "SUCCESS - saved https://encrypted-tbn0.gstatic.com/images?q=tbn:ANd9GcRI7K7jWq-KG7ZIt2S-RWfn-G7BVcuo5jR2ow&usqp=CAU - as ./images/kitchen/29e6b0d2ae.jpg\n",
      "SUCCESS - saved https://encrypted-tbn0.gstatic.com/images?q=tbn:ANd9GcRvnj43BVjO_23nwQqSk0tu4aSy6PfD3ciOvg&usqp=CAU - as ./images/kitchen/e7973720e0.jpg\n",
      "SUCCESS - saved https://encrypted-tbn0.gstatic.com/images?q=tbn:ANd9GcSecC8BLy_XzsYQcWHANaT8tRxmg82iTDwqyQ&usqp=CAU - as ./images/kitchen/0fe09fc800.jpg\n",
      "SUCCESS - saved https://encrypted-tbn0.gstatic.com/images?q=tbn:ANd9GcQPNaN0X2AnuCVuYIf8nLhuJKVHEVa2BvXhxA&usqp=CAU - as ./images/kitchen/14c6c39c4b.jpg\n",
      "SUCCESS - saved https://encrypted-tbn0.gstatic.com/images?q=tbn:ANd9GcT1Ahm0Wr_YFd0xXpH7Yz0VWnR5D3v4EIMCuw&usqp=CAU - as ./images/kitchen/ef777d4115.jpg\n",
      "SUCCESS - saved https://encrypted-tbn0.gstatic.com/images?q=tbn:ANd9GcRZ9TP8PrWrypPAv5FNWQFp4FLUgDHCvAaUug&usqp=CAU - as ./images/kitchen/cebe522073.jpg\n",
      "SUCCESS - saved https://encrypted-tbn0.gstatic.com/images?q=tbn:ANd9GcRzaxvIhKoFPd3KRnPCPIaywxB52L0BeM_48A&usqp=CAU - as ./images/kitchen/ec0c702cfc.jpg\n",
      "SUCCESS - saved https://encrypted-tbn0.gstatic.com/images?q=tbn:ANd9GcRXo0PNsIlNg1tjpoNkibyKtbfyiaJZUgTrpQ&usqp=CAU - as ./images/kitchen/4dc1973b37.jpg\n",
      "SUCCESS - saved https://encrypted-tbn0.gstatic.com/images?q=tbn:ANd9GcROegIRcoixC507p9UlGmsFwZHmd5rK1tOKHA&usqp=CAU - as ./images/kitchen/5ad3c8082d.jpg\n",
      "SUCCESS - saved https://encrypted-tbn0.gstatic.com/images?q=tbn:ANd9GcS3QpLRoub50JdOhAJBO-2rMxXnu8ZvIbMPjw&usqp=CAU - as ./images/kitchen/fbdb02aedb.jpg\n",
      "SUCCESS - saved https://encrypted-tbn0.gstatic.com/images?q=tbn:ANd9GcRrMUATW36Fh7OgteE7YuDC34iypr4LGQCUKQ&usqp=CAU - as ./images/kitchen/b0f40940b1.jpg\n",
      "SUCCESS - saved https://encrypted-tbn0.gstatic.com/images?q=tbn:ANd9GcRw07tami_NaQXfBnZxuBcxUnVc7B0sTDYLPQ&usqp=CAU - as ./images/kitchen/e310b47106.jpg\n",
      "SUCCESS - saved https://encrypted-tbn0.gstatic.com/images?q=tbn:ANd9GcQm60BCtqjHHsA8TpxvTBSRnrW8nX_9cIM5qQ&usqp=CAU - as ./images/kitchen/0366f5f006.jpg\n",
      "SUCCESS - saved https://media.diy.com/is/image/Kingfisher/Inspire_ArtemisiaMattGraphiteShaker_ArtemisiaMattWhiteClassicShaker_MainShot1_2018_02LS-S?$WCMS_NPI_L$ - as ./images/kitchen/3501ec2cc8.jpg\n",
      "SUCCESS - saved https://encrypted-tbn0.gstatic.com/images?q=tbn:ANd9GcSOjdqNFa9qEHzrFtLlCawoXl4m3DTHL0sUfA&usqp=CAU - as ./images/kitchen/6d3aadafbe.jpg\n",
      "SUCCESS - saved https://encrypted-tbn0.gstatic.com/images?q=tbn:ANd9GcQ9fIzPeF5AzJa7fgPSHfdVAZB9bKKY7PEu_Q&usqp=CAU - as ./images/kitchen/ad5f11b0f5.jpg\n",
      "SUCCESS - saved https://encrypted-tbn0.gstatic.com/images?q=tbn:ANd9GcRlc_Et5gsgqNVA0XIUeEesCaRr4k5V0q0rUw&usqp=CAU - as ./images/kitchen/d3df77d4bd.jpg\n",
      "SUCCESS - saved https://lh3.googleusercontent.com/proxy/3hMWCipQgpTo5js7_vuuyH490c5uo805LGbWYkQHObS-b8hj4cnQZ5Y2QHAYPKOmtOLTqZ7WlMiQt_AwcLApaWT5RVGTX0K8Ldp_WfBQrjubxkrX-_j6FCr2Mpj-L2y8iQbuV1er4tx5rQHYMFxdeMcNRZt_4Xock-bCSAfLRW76m-52Pfi6oEINIdzO48n662k - as ./images/kitchen/b8c80be821.jpg\n",
      "SUCCESS - saved https://encrypted-tbn0.gstatic.com/images?q=tbn:ANd9GcQrE6_SG_3jttMyC4i0ncgqdWTcGFkjeKa_bA&usqp=CAU - as ./images/kitchen/40da827fcb.jpg\n",
      "SUCCESS - saved https://encrypted-tbn0.gstatic.com/images?q=tbn:ANd9GcSzME0D3SPnDRfk9KwG6qOEkMyUtWNzL84qcg&usqp=CAU - as ./images/kitchen/9721390bba.jpg\n",
      "SUCCESS - saved https://encrypted-tbn0.gstatic.com/images?q=tbn:ANd9GcTRkRjr7zmSsFhl3221c0mIq46SSWiI36-sCA&usqp=CAU - as ./images/kitchen/f231c64089.jpg\n",
      "SUCCESS - saved https://encrypted-tbn0.gstatic.com/images?q=tbn:ANd9GcTQmbeKrBfAUmnJPR-ptTp5KVgWA_RbgOSFog&usqp=CAU - as ./images/kitchen/af65f06e37.jpg\n",
      "SUCCESS - saved https://encrypted-tbn0.gstatic.com/images?q=tbn:ANd9GcSMno-J2lHGnGzwc-rTAmmCl7-Za67Fi7XxVQ&usqp=CAU - as ./images/kitchen/e68963f0e7.jpg\n",
      "SUCCESS - saved https://encrypted-tbn0.gstatic.com/images?q=tbn:ANd9GcRgLN9ZhGzFThjRQw6vuPWg9EGjLR17rAoV7A&usqp=CAU - as ./images/kitchen/b8270e2b73.jpg\n",
      "SUCCESS - saved https://encrypted-tbn0.gstatic.com/images?q=tbn:ANd9GcTxucsF_LHjtzBUCeH1gXxoyP5M_BxIkYwOpA&usqp=CAU - as ./images/kitchen/90ada7682a.jpg\n",
      "SUCCESS - saved https://encrypted-tbn0.gstatic.com/images?q=tbn:ANd9GcTVOAFm3BsuuRmM_V0XKVOALnoNKYWwRD2f5A&usqp=CAU - as ./images/kitchen/4a56a85da7.jpg\n",
      "SUCCESS - saved https://encrypted-tbn0.gstatic.com/images?q=tbn:ANd9GcRRwlBDHZL5a7LYO0SzK8FstqzeYvOkjVUKuw&usqp=CAU - as ./images/kitchen/057bc89123.jpg\n",
      "SUCCESS - saved https://encrypted-tbn0.gstatic.com/images?q=tbn:ANd9GcRpWrhsqgnOTpeXnCU2Rb_XJ4BwQMEtE_MUaA&usqp=CAU - as ./images/kitchen/1b5a0238d4.jpg\n",
      "SUCCESS - saved https://encrypted-tbn0.gstatic.com/images?q=tbn:ANd9GcQNwKrPh4XfYzlK8PHlShblppkQdTfg1n008A&usqp=CAU - as ./images/kitchen/ce38e3de30.jpg\n",
      "SUCCESS - saved https://encrypted-tbn0.gstatic.com/images?q=tbn:ANd9GcR2_Wqh1N7FWhxepz7dbvyh8mZwuBysmhVJWg&usqp=CAU - as ./images/kitchen/74abf88b54.jpg\n",
      "SUCCESS - saved https://encrypted-tbn0.gstatic.com/images?q=tbn:ANd9GcTSB1BSPxK7yQ0V7I7Yizp5mVtstZs-9c_AxQ&usqp=CAU - as ./images/kitchen/11922bcbd9.jpg\n",
      "SUCCESS - saved https://encrypted-tbn0.gstatic.com/images?q=tbn:ANd9GcQd1TaYFsvsmvOuBEqaXzaz7n48Pf9Z36YGMA&usqp=CAU - as ./images/kitchen/da561299be.jpg\n",
      "SUCCESS - saved https://encrypted-tbn0.gstatic.com/images?q=tbn:ANd9GcTohT7OvEYhjliyx6YHK7p5Brlt2nix42ew4A&usqp=CAU - as ./images/kitchen/a08fa2d26a.jpg\n"
     ]
    }
   ],
   "source": [
    "search_term = 'kitchen'\n",
    "\n",
    "search_and_download(search_term=search_term, driver_path=DRIVER_PATH)"
   ]
  },
  {
   "cell_type": "code",
   "execution_count": null,
   "metadata": {},
   "outputs": [],
   "source": []
  }
 ],
 "metadata": {
  "kernelspec": {
   "display_name": "Python 3",
   "language": "python",
   "name": "python3"
  },
  "language_info": {
   "codemirror_mode": {
    "name": "ipython",
    "version": 3
   },
   "file_extension": ".py",
   "mimetype": "text/x-python",
   "name": "python",
   "nbconvert_exporter": "python",
   "pygments_lexer": "ipython3",
   "version": "3.7.7"
  },
  "toc": {
   "base_numbering": 1,
   "nav_menu": {},
   "number_sections": true,
   "sideBar": true,
   "skip_h1_title": false,
   "title_cell": "Table of Contents",
   "title_sidebar": "Contents",
   "toc_cell": false,
   "toc_position": {},
   "toc_section_display": true,
   "toc_window_display": false
  }
 },
 "nbformat": 4,
 "nbformat_minor": 4
}
